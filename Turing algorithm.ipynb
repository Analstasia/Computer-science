{
 "cells": [
  {
   "cell_type": "code",
   "execution_count": 10,
   "id": "026d49b3",
   "metadata": {},
   "outputs": [
    {
     "name": "stdout",
     "output_type": "stream",
     "text": [
      "5814\n",
      "2617353\n",
      "1525552\n",
      "2381274\n",
      "28498080\n",
      "Оптимальные значения параметров:  [0.003689570834732314, 0.009214492523396345, 0.010333337531497566, 0.0038081832969819596, 0.0006472492921724138]\n",
      "Оптимальная стоимость производства:  0.0276928334787806\n"
     ]
    }
   ],
   "source": [
    "import numpy as np\n",
    "x_dict=[]\n",
    "# определение функции стоимости\n",
    "def cost_function(x_dict):\n",
    "    # x - массив значений параметров системы\n",
    "    # здесь можно определить формулу для расчета стоимости производства\n",
    "    # например, затраты на материалы и энергию в зависимости от распределения производственных мощностей\n",
    "    return np.sum(x_dict)\n",
    "# определение алгоритма Тьюринга\n",
    "def turing_algorithm(cost_function, n_variables, max_iterations):\n",
    "    global x_dict\n",
    "    # cost_function - функция стоимости\n",
    "    # n_variables - количество переменных в функции стоимости\n",
    "    # max_iterations - максимальное количество итераций\n",
    "    for i in range(n_variables):\n",
    "        x=int(input())\n",
    "        x_dict.append(x)\n",
    "    # начальная оценка стоимости производства\n",
    "    cost = cost_function(x_dict)\n",
    "\n",
    "    for i in range(max_iterations):\n",
    "        # случайное изменение одного из параметров системы\n",
    "        j = np.random.randint(n_variables)\n",
    "        x_new = x_dict.copy()\n",
    "        x_new[j] = np.random.rand()\n",
    "\n",
    "        # расчет новой оценки стоимости производства\n",
    "        cost_new = cost_function(x_new)\n",
    "\n",
    "        # проверка, улучшилась ли стоимость производства\n",
    "        if cost_new < cost:\n",
    "            x_dict = x_new\n",
    "            cost = cost_new\n",
    "\n",
    "    return x_dict, cost\n",
    "\n",
    "# пример использования алгоритма для уменьшения затрат производства\n",
    "n_variables = 5 # количество параметров системы\n",
    "max_iterations = 1000 # максимальное количество итераций\n",
    "x_optimal, cost_optimal = turing_algorithm(cost_function, n_variables, max_iterations)\n",
    "print(\"Оптимальные значения параметров: \", x_optimal)\n",
    "print(\"Оптимальная стоимость производства: \", cost_optimal)\n",
    "\n"
   ]
  },
  {
   "cell_type": "code",
   "execution_count": null,
   "id": "04d40357",
   "metadata": {},
   "outputs": [],
   "source": []
  }
 ],
 "metadata": {
  "kernelspec": {
   "display_name": "Python 3 (ipykernel)",
   "language": "python",
   "name": "python3"
  },
  "language_info": {
   "codemirror_mode": {
    "name": "ipython",
    "version": 3
   },
   "file_extension": ".py",
   "mimetype": "text/x-python",
   "name": "python",
   "nbconvert_exporter": "python",
   "pygments_lexer": "ipython3",
   "version": "3.10.10"
  }
 },
 "nbformat": 4,
 "nbformat_minor": 5
}
